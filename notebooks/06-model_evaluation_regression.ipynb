{
 "cells": [
  {
   "cell_type": "markdown",
   "metadata": {},
   "source": [
    "# Imports"
   ]
  },
  {
   "cell_type": "code",
   "execution_count": 1,
   "metadata": {},
   "outputs": [],
   "source": [
    "import numpy as np\n",
    "import joblib\n",
    "import pandas as pd\n",
    "from sklearn.model_selection import RandomizedSearchCV\n",
    "from sklearn.neighbors import KNeighborsRegressor\n",
    "from sklearn.linear_model import LinearRegression\n",
    "from sklearn.ensemble import RandomForestRegressor\n",
    "from sklearn.model_selection import train_test_split\n",
    "from xgboost import XGBRegressor\n",
    "\n",
    "from resources.context import Context as c\n",
    "from resources.datatransformer import DataTransformer\n",
    "from resources.modelvalidator import ModelValidator"
   ]
  },
  {
   "cell_type": "code",
   "execution_count": 2,
   "metadata": {},
   "outputs": [],
   "source": [
    "pd.set_option('display.float_format', lambda x: '%.2f' % x)"
   ]
  },
  {
   "cell_type": "markdown",
   "metadata": {},
   "source": [
    "# Data"
   ]
  },
  {
   "cell_type": "markdown",
   "metadata": {},
   "source": [
    "## Loading Data"
   ]
  },
  {
   "cell_type": "code",
   "execution_count": 3,
   "metadata": {},
   "outputs": [],
   "source": [
    "df_prepared = joblib.load(open((c().data_proc_fld() / 'df_prepared_reg.pkl'), 'rb'))\n",
    "ct_scaler = joblib.load(open(c().data_proc_fld() / 'ct_scaler_reg.pkl', 'rb'))\n",
    "ipvad_scaler = joblib.load(open(c().data_proc_fld() / 'ipvad_scaler_reg.pkl', 'rb'))\n",
    "y_scaler = joblib.load(open(c().data_proc_fld() / 'y_scaler_reg.pkl', 'rb'))"
   ]
  },
  {
   "cell_type": "markdown",
   "metadata": {},
   "source": [
    "## Data Preparation"
   ]
  },
  {
   "cell_type": "markdown",
   "metadata": {},
   "source": [
    "### Separation"
   ]
  },
  {
   "cell_type": "code",
   "execution_count": 4,
   "metadata": {},
   "outputs": [],
   "source": [
    "X = df_prepared.drop(['cod_anuncio', 'log1p_leads'], axis=1)\n",
    "y = df_prepared['log1p_leads']"
   ]
  },
  {
   "cell_type": "code",
   "execution_count": 5,
   "metadata": {},
   "outputs": [],
   "source": [
    "X_train, X_val, y_train, y_val = train_test_split(X, y, test_size=0.2, random_state=42)"
   ]
  },
  {
   "cell_type": "markdown",
   "metadata": {},
   "source": [
    "# 5.0. Models Otimization & Features Impact"
   ]
  },
  {
   "cell_type": "markdown",
   "metadata": {},
   "source": [
    "## 5.1. XGBoost"
   ]
  },
  {
   "cell_type": "markdown",
   "metadata": {},
   "source": [
    "### 5.1.1. Fine Tuning"
   ]
  },
  {
   "cell_type": "code",
   "execution_count": 6,
   "metadata": {},
   "outputs": [],
   "source": [
    "# param_grid = {\n",
    "#             'max_depth': np.arange(3, 18, 3),\n",
    "#             'gamma': np.arange(3, 9, 3),\n",
    "#             'reg_alpha' : np.arange(30, 180, 30),\n",
    "#             'reg_lambda' : np.arange(0, 1, 1),\n",
    "#             'colsample_bytree' : np.arange(0.5, 1, 0.5),\n",
    "#             'min_child_weight' : np.arange(0, 10, 2),\n",
    "#             'n_estimators': np.arange(30, 150, 30)\n",
    "#             }\n",
    "\n",
    "# base_estimator = XGBRegressor(random_state=42)\n",
    "# sh = RandomizedSearchCV(\n",
    "#                 base_estimator, \n",
    "#                 param_grid, \n",
    "#                 cv=10, \n",
    "#                 n_jobs=-1, \n",
    "#                 scoring='neg_mean_absolute_error',\n",
    "#                 ).fit(X, y)\n",
    "\n",
    "# sh.best_params_"
   ]
  },
  {
   "cell_type": "markdown",
   "metadata": {},
   "source": [
    "### 5.1.2. Defining Model"
   ]
  },
  {
   "cell_type": "code",
   "execution_count": 7,
   "metadata": {},
   "outputs": [],
   "source": [
    "# these params was choosed by the fine tuning process above\n",
    "xgb_params = {'reg_lambda': 0,\n",
    "            'reg_alpha': 150,\n",
    "            'n_estimators': 90,\n",
    "            'min_child_weight': 2,\n",
    "            'max_depth': 12,\n",
    "            'gamma': 6,\n",
    "            'colsample_bytree': 0.5,\n",
    "            'objective':'reg:squarederror'}\n",
    "\n",
    "xgb_model = XGBRegressor(**xgb_params)"
   ]
  },
  {
   "cell_type": "markdown",
   "metadata": {},
   "source": [
    "### 5.1.3. Validations"
   ]
  },
  {
   "cell_type": "code",
   "execution_count": 8,
   "metadata": {},
   "outputs": [],
   "source": [
    "xgb_model.fit(X, y)\n",
    "model_validator = ModelValidator(model_name='XGBoost Regressor', model=xgb_model, X=X, y=y)"
   ]
  },
  {
   "cell_type": "markdown",
   "metadata": {},
   "source": [
    "#### Shap"
   ]
  },
  {
   "cell_type": "code",
   "execution_count": 9,
   "metadata": {},
   "outputs": [
    {
     "data": {
      "image/png": "[encoded data removed]",
      "text/plain": [
       "<Figure size 576x280.8 with 2 Axes>"
      ]
     },
     "metadata": {
      "needs_background": "light"
     },
     "output_type": "display_data"
    }
   ],
   "source": [
    "model_validator.shap_importance()"
   ]
  },
  {
   "cell_type": "markdown",
   "metadata": {},
   "source": [
    "#### Feature Importance"
   ]
  },
  {
   "cell_type": "code",
   "execution_count": 10,
   "metadata": {},
   "outputs": [
    {
     "data": {
      "image/png": "[encoded data removed]",
      "text/plain": [
       "<Figure size 1440x432 with 1 Axes>"
      ]
     },
     "metadata": {
      "needs_background": "light"
     },
     "output_type": "display_data"
    }
   ],
   "source": [
    "model_validator.plot_feature_importance()"
   ]
  },
  {
   "cell_type": "markdown",
   "metadata": {},
   "source": [
    "## 5.2. Random Forest"
   ]
  },
  {
   "cell_type": "markdown",
   "metadata": {},
   "source": [
    "### 5.2.1. Fine Tuning"
   ]
  },
  {
   "cell_type": "code",
   "execution_count": 11,
   "metadata": {},
   "outputs": [],
   "source": [
    "# param_grid = {\n",
    "#             'max_depth': np.arange(4, 16, 4),\n",
    "#             'min_samples_leaf': np.arange(2, 6, 2),\n",
    "#             'min_samples_split': np.arange(2, 6, 2),\n",
    "#             'n_estimators': np.arange(30, 150, 30)\n",
    "#             }\n",
    "\n",
    "# base_estimator = RandomForestRegressor(random_state=42)\n",
    "# sh = RandomizedSearchCV(\n",
    "#                 base_estimator, \n",
    "#                 param_grid, \n",
    "#                 cv=10, \n",
    "#                 n_jobs=-1, \n",
    "#                 scoring='neg_mean_absolute_error',\n",
    "#                 ).fit(X, y)\n",
    "\n",
    "# sh.best_params_"
   ]
  },
  {
   "cell_type": "markdown",
   "metadata": {},
   "source": [
    "### 5.2.2. Defining Model"
   ]
  },
  {
   "cell_type": "code",
   "execution_count": 12,
   "metadata": {},
   "outputs": [],
   "source": [
    "# these params was choosed by the fine tuning process above\n",
    "rf_params = {'n_estimators': 30,\n",
    "            'min_samples_split': 2,\n",
    "            'min_samples_leaf': 2,\n",
    "            'max_depth': 4}\n",
    "\n",
    "rf_model = RandomForestRegressor(**rf_params)"
   ]
  },
  {
   "cell_type": "markdown",
   "metadata": {},
   "source": [
    "### 5.2.3. Validations"
   ]
  },
  {
   "cell_type": "code",
   "execution_count": 13,
   "metadata": {},
   "outputs": [],
   "source": [
    "rf_model.fit(X, y)\n",
    "model_validator = ModelValidator(model_name='Random Forest Regressor', model=rf_model, X=X, y=y)\n",
    "data_transformer = DataTransformer(df=X_val)"
   ]
  },
  {
   "cell_type": "markdown",
   "metadata": {},
   "source": [
    "#### Shap"
   ]
  },
  {
   "cell_type": "code",
   "execution_count": 14,
   "metadata": {},
   "outputs": [
    {
     "name": "stderr",
     "output_type": "stream",
     "text": [
      " 98%|===================| 47363/48343 [00:15<00:00]        "
     ]
    },
    {
     "data": {
      "image/png": "[encoded data removed]",
      "text/plain": [
       "<Figure size 576x280.8 with 2 Axes>"
      ]
     },
     "metadata": {
      "needs_background": "light"
     },
     "output_type": "display_data"
    }
   ],
   "source": [
    "model_validator.shap_importance()"
   ]
  },
  {
   "cell_type": "markdown",
   "metadata": {},
   "source": [
    "#### Feature Importance"
   ]
  },
  {
   "cell_type": "code",
   "execution_count": 15,
   "metadata": {},
   "outputs": [
    {
     "data": {
      "image/png": "[encoded data removed]",
      "text/plain": [
       "<Figure size 1440x432 with 1 Axes>"
      ]
     },
     "metadata": {
      "needs_background": "light"
     },
     "output_type": "display_data"
    }
   ],
   "source": [
    "model_validator.plot_feature_importance()"
   ]
  },
  {
   "cell_type": "markdown",
   "metadata": {},
   "source": [
    "## 5.3. K-Nearest Neighbour"
   ]
  },
  {
   "cell_type": "markdown",
   "metadata": {},
   "source": [
    "### 5.3.1. Fine Tuning"
   ]
  },
  {
   "cell_type": "code",
   "execution_count": 16,
   "metadata": {},
   "outputs": [],
   "source": [
    "# param_grid = {\n",
    "#         'leaf_size': np.arange(5, 50, 5), \n",
    "#         'n_neighbors': np.arange(5, 50, 5)\n",
    "#         }\n",
    "\n",
    "# base_estimator = KNeighborsRegressor()\n",
    "# sh = RandomizedSearchCV(\n",
    "#                 base_estimator, \n",
    "#                 param_grid, \n",
    "#                 cv=10, \n",
    "#                 n_jobs=-1, \n",
    "#                 scoring='neg_mean_absolute_error',\n",
    "#                 ).fit(X, y)\n",
    "\n",
    "# sh.best_params_"
   ]
  },
  {
   "cell_type": "markdown",
   "metadata": {},
   "source": [
    "### 5.3.2. Defining Model"
   ]
  },
  {
   "cell_type": "code",
   "execution_count": 17,
   "metadata": {},
   "outputs": [],
   "source": [
    "# these params was choosed by the fine tuning process above\n",
    "knn_params = {'n_neighbors': 45, 'leaf_size': 35}\n",
    "\n",
    "knn_model = KNeighborsRegressor(**knn_params)"
   ]
  },
  {
   "cell_type": "markdown",
   "metadata": {},
   "source": [
    "## 5.4. Linear Regression"
   ]
  },
  {
   "cell_type": "markdown",
   "metadata": {},
   "source": [
    "### 5.4.1. Defining Model"
   ]
  },
  {
   "cell_type": "code",
   "execution_count": 18,
   "metadata": {},
   "outputs": [],
   "source": [
    "lr_model = LinearRegression()"
   ]
  },
  {
   "cell_type": "markdown",
   "metadata": {},
   "source": [
    "## 5.5. Cross Validation Metrics"
   ]
  },
  {
   "cell_type": "code",
   "execution_count": 19,
   "metadata": {},
   "outputs": [],
   "source": [
    "model_validator = ModelValidator(model_name='Extreme Gradient Boosting Regressor', model=xgb_model, X=X, y=y)\n",
    "xgb_cv = model_validator.kfolds_cross_val_reg(y_scaler=y_scaler, col_orig_name='leads', y_nt='log1p_leads', cv=10)\n",
    "\n",
    "model_validator = ModelValidator(model_name='Random Forest Regressor', model=rf_model, X=X, y=y)\n",
    "rf_cv = model_validator.kfolds_cross_val_reg(y_scaler=y_scaler, col_orig_name='leads', y_nt='log1p_leads', cv=10)\n",
    "\n",
    "model_validator = ModelValidator(model_name='K-Nearest Neighbour Regressor', model=knn_model, X=X, y=y)\n",
    "knn_cv = model_validator.kfolds_cross_val_reg(y_scaler=y_scaler, col_orig_name='leads', y_nt='log1p_leads', cv=10)\n",
    "\n",
    "model_validator = ModelValidator(model_name='Linear Regression Regressor', model=lr_model, X=X, y=y)\n",
    "lr_cv = model_validator.kfolds_cross_val_reg(y_scaler=y_scaler, col_orig_name='leads', y_nt='log1p_leads', cv=10)"
   ]
  },
  {
   "cell_type": "code",
   "execution_count": 20,
   "metadata": {},
   "outputs": [
    {
     "data": {
      "text/html": [
       "<div>\n",
       "<style scoped>\n",
       "    .dataframe tbody tr th:only-of-type {\n",
       "        vertical-align: middle;\n",
       "    }\n",
       "\n",
       "    .dataframe tbody tr th {\n",
       "        vertical-align: top;\n",
       "    }\n",
       "\n",
       "    .dataframe thead th {\n",
       "        text-align: right;\n",
       "    }\n",
       "</style>\n",
       "<table border=\"1\" class=\"dataframe\">\n",
       "  <thead>\n",
       "    <tr style=\"text-align: right;\">\n",
       "      <th></th>\n",
       "      <th>Model Name</th>\n",
       "      <th>MAE CV</th>\n",
       "      <th>MAPE CV</th>\n",
       "      <th>RMSE CV</th>\n",
       "    </tr>\n",
       "  </thead>\n",
       "  <tbody>\n",
       "    <tr>\n",
       "      <th>0</th>\n",
       "      <td>Extreme Gradient Boosting Regressor</td>\n",
       "      <td>3.49</td>\n",
       "      <td>0.51</td>\n",
       "      <td>10.34</td>\n",
       "    </tr>\n",
       "    <tr>\n",
       "      <th>0</th>\n",
       "      <td>Random Forest Regressor</td>\n",
       "      <td>3.30</td>\n",
       "      <td>0.50</td>\n",
       "      <td>8.69</td>\n",
       "    </tr>\n",
       "    <tr>\n",
       "      <th>0</th>\n",
       "      <td>K-Nearest Neighbour Regressor</td>\n",
       "      <td>3.55</td>\n",
       "      <td>0.50</td>\n",
       "      <td>10.53</td>\n",
       "    </tr>\n",
       "    <tr>\n",
       "      <th>0</th>\n",
       "      <td>Linear Regression Regressor</td>\n",
       "      <td>70349.48</td>\n",
       "      <td>251.42</td>\n",
       "      <td>6093953.95</td>\n",
       "    </tr>\n",
       "  </tbody>\n",
       "</table>\n",
       "</div>"
      ],
      "text/plain": [
       "                            Model Name   MAE CV  MAPE CV    RMSE CV\n",
       "0  Extreme Gradient Boosting Regressor     3.49     0.51      10.34\n",
       "0              Random Forest Regressor     3.30     0.50       8.69\n",
       "0        K-Nearest Neighbour Regressor     3.55     0.50      10.53\n",
       "0          Linear Regression Regressor 70349.48   251.42 6093953.95"
      ]
     },
     "execution_count": 20,
     "metadata": {},
     "output_type": "execute_result"
    }
   ],
   "source": [
    "cv_perf = pd.concat([xgb_cv, rf_cv, knn_cv, lr_cv], axis=0)\n",
    "cv_perf # RandomForest is the best model, next steps will be with him."
   ]
  },
  {
   "cell_type": "markdown",
   "metadata": {},
   "source": [
    "# Saving Model"
   ]
  },
  {
   "cell_type": "code",
   "execution_count": 21,
   "metadata": {},
   "outputs": [],
   "source": [
    "joblib.dump(rf_model, open(c().models_fld() / 'rf_reg_model.pkl', 'wb'))"
   ]
  }
 ],
 "metadata": {
  "interpreter": {
   "hash": "450fff13fef24468119f0afbbe8563c47a1deb8705de05e4a6386c29bd605376"
  },
  "kernelspec": {
   "display_name": "Python 3.10.4 64-bit ('figma_assus')",
   "language": "python",
   "name": "python3"
  },
  "language_info": {
   "codemirror_mode": {
    "name": "ipython",
    "version": 3
   },
   "file_extension": ".py",
   "mimetype": "text/x-python",
   "name": "python",
   "nbconvert_exporter": "python",
   "pygments_lexer": "ipython3",
   "version": "3.10.4"
  },
  "orig_nbformat": 4
 },
 "nbformat": 4,
 "nbformat_minor": 2
}
